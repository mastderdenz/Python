{
 "cells": [
  {
   "cell_type": "markdown",
   "id": "1e42e463",
   "metadata": {},
   "source": [
    "Before you turn this problem in, make sure everything runs as expected. First, **restart the kernel** (in the menubar, select Kernel$\\rightarrow$Restart) and then **run all cells** (in the menubar, select Cell$\\rightarrow$Run All).\n",
    "\n",
    "Make sure you fill in any place that says `YOUR CODE HERE` or \"YOUR ANSWER HERE\"."
   ]
  },
  {
   "cell_type": "markdown",
   "id": "72faf5c7",
   "metadata": {},
   "source": [
    "---"
   ]
  },
  {
   "cell_type": "markdown",
   "id": "656eb679-cd1a-4b2d-849c-ca28cd6e6774",
   "metadata": {
    "deletable": false,
    "editable": false,
    "nbgrader": {
     "cell_type": "markdown",
     "checksum": "a2fd1cca2eccf1c309b80c83547a6c80",
     "grade": false,
     "grade_id": "cell-d266108b83ece7a0",
     "locked": true,
     "schema_version": 3,
     "solution": false,
     "task": false
    },
    "tags": []
   },
   "source": [
    "# Section B: Question 2\n",
    "\n",
    "*In which you will write functions to compute conditional probabilities from an (estimated) probability distribution.*\n",
    "\n",
    "Suppose we have a $n \\times p$ matrix $X$ with entries $x_{ij}$ (so that $1 \\leq i \\leq n$, $1  \\leq j \\leq p$). \n",
    "\n",
    "Let's define some (mathematical) functions $F_j(v), S_j(v)$ given by\n",
    "$$\n",
    "F_j(v) = \\frac{1}{n}\\sum_{i = 1}^n I(x_{ij} \\leq v)~~~~\\text{and} ~~~~~ S_j(v) = \\frac{1}{n}\\sum_{i = 1}^n I(x_{ij} > v),\n",
    "$$\n",
    "where\n",
    "* $j$ is some column index of $X$;\n",
    "* $v$ is some arbitrary number;\n",
    "* $I($\"statement\"$)$ is the *indicator function*: it returns 0 if the statement is false, and 1 otherwise. For example, this means that if $x_{ij} \\leq v$, then $I(x_{ij} \\leq v) = 1$; if $x_{ij} > v$, then $I(x_{ij} \\leq v) = 0$. \n",
    "\n",
    "In plain English: function $F_j(v)$ is the proportion of rows of $X$ where the $j$-th column of $X$ is less than, or equal to, some value $v$. We can think of $F_j(v)$ as a cumulative distribution distribution, $P(X_j \\leq v)$.\n",
    "\n",
    "Likewise, let's define $F_{jk}(v_1, v_2), S_{jk}(v_1, v_2)$ as\n",
    "$$\n",
    "F_{jk}(v_1, v_2) = \\frac{1}{n}\\sum_{i = 1}^n I(x_{ij} \\leq v_1)I(x_{ik} \\leq v_2) ~~~ \\text{and} ~~~ S_{jk}(v_1, v_2) = \\frac{1}{n}\\sum_{i = 1}^n I(x_{ij} > v_1)I(x_{ik} > v_2)\n",
    "$$\n",
    "where both $j$ and $k$ represent column indices of $X$.\n",
    "\n",
    "Your tasks are:\n",
    "\n",
    "## Part 1a\n",
    "Write a (Python) function to calculate called `marginal_dist(x_matrix, j, v, lower)`, where `x_matrix` is a two-dimensional *list* meant to represent some matrix $X$; `j` is a valid column index for `x_matrix`; `v` is a number; and $v$ is a Boolean variable. This function should return $F_j(v)$ if `lower=True` and $S_j(v)$ if `lower=False`. The default value of `lower` should be `True`.\n",
    "\n",
    "*In the implementation of this function you are not allowed to use any packages.*"
   ]
  },
  {
   "cell_type": "code",
   "execution_count": 1,
   "id": "9727ecd2-2bdf-44f9-83ae-cfa40cc88d41",
   "metadata": {
    "deletable": false,
    "nbgrader": {
     "cell_type": "code",
     "checksum": "c7768416aad5df80dcac424dccd5dc18",
     "grade": false,
     "grade_id": "cell-115bb2166e934863",
     "locked": false,
     "schema_version": 3,
     "solution": true,
     "task": false
    },
    "tags": []
   },
   "outputs": [],
   "source": [
    "def marginal_dist(x_matrix, j, v, lower = True):\n",
    "\n",
    "    if lower==True:\n",
    "        sum_of_I=0\n",
    "        n=0\n",
    "        for i in range(len(x_matrix)):   #loop that goes through every row of the matrix\n",
    "            if x_matrix[i][j]<=v:   #checks if the element is less than or equal to v\n",
    "                sum_of_I+=1  #1 is added if the condition is satisfied\n",
    "            n+=1  #number of rows\n",
    "            Fj_v=sum_of_I/n  #Calculates the cumulative distribution\n",
    "        return Fj_v\n",
    "    \n",
    "    elif lower==False:\n",
    "        sum_of_I=0\n",
    "        n=0\n",
    "        for i in range(len(x_matrix)):   #loop that goes through every row of the matrix\n",
    "            if x_matrix[i][j]>v:  #checks if the element is less than or equal to v\n",
    "                sum_of_I+=1  #1 is added if the condition is satisfied\n",
    "            n+=1  #number of rows\n",
    "            Sj_v=sum_of_I/n\n",
    "        return Sj_v\n",
    "    # YOUR CODE HERE"
   ]
  },
  {
   "cell_type": "code",
   "execution_count": 2,
   "id": "6697b161-1912-4551-b4f0-05f68a085989",
   "metadata": {
    "tags": []
   },
   "outputs": [
    {
     "data": {
      "text/plain": [
       "0.6666666666666666"
      ]
     },
     "execution_count": 2,
     "metadata": {},
     "output_type": "execute_result"
    }
   ],
   "source": [
    "# Test your code in this block\n",
    "matrix_1=[[1,2,3],[4,5,6],[7,8,9]]\n",
    "marginal_dist(matrix_1, 0, 3, lower=False)"
   ]
  },
  {
   "cell_type": "markdown",
   "id": "41f4cf77-4d8d-476b-937d-21558d1fc9b4",
   "metadata": {
    "deletable": false,
    "editable": false,
    "nbgrader": {
     "cell_type": "markdown",
     "checksum": "be9bb9e4959a8835cdb6ba8ade6353c2",
     "grade": false,
     "grade_id": "cell-d4db40903d3364b8",
     "locked": true,
     "schema_version": 3,
     "solution": false,
     "task": false
    },
    "tags": []
   },
   "source": [
    "## Part 1b\n",
    "Write a separate Python function `nd_marginal_dist(x_matrix, j, v, lower = True)` of analogous functionality, but where `x_matrix` is a `ndarray` and you are allowed to use `numpy` in any way you want, but *no other package*."
   ]
  },
  {
   "cell_type": "code",
   "execution_count": 3,
   "id": "a47c5b47-f4c2-4f1b-8dfd-c0f860199129",
   "metadata": {
    "deletable": false,
    "nbgrader": {
     "cell_type": "code",
     "checksum": "1b97851bef491a5be8ebcc100eaf2f86",
     "grade": false,
     "grade_id": "cell-261b43402b8f7d96",
     "locked": false,
     "schema_version": 3,
     "solution": true,
     "task": false
    },
    "tags": []
   },
   "outputs": [],
   "source": [
    "import numpy as np #import the necessary modules\n",
    "\n",
    "def nd_marginal_dist(x_matrix, j, v, lower = True):\n",
    "\n",
    "    if lower==True:\n",
    "        sum_of_I=0\n",
    "        n=0\n",
    "        for i in range(len(x_matrix)):  #loop that goes through every row of the matrix\n",
    "            sum_of_I+=(np.where(x_matrix[i][j]<=v,1,0))  #checks if the row in the j-th column is less than or equal to v and adds 1 to sum_of_I if satifisfied\n",
    "            n+=1  #number of rows\n",
    "            Fj_v=sum_of_I/n  #Calculates the cumulative distribution\n",
    "        return Fj_v\n",
    "    \n",
    "    elif lower==False:\n",
    "        sum_of_I=0\n",
    "        n=0\n",
    "        for i in range(len(x_matrix)):  #loop that goes through every row of the matrix\n",
    "            sum_of_I+=(np.where(x_matrix[i][j]>v,1,0)) #check if the row in the j-th column is greater than v and adds 1 to sum_of_I if satisfied\n",
    "            n+=1  #number of rows\n",
    "            Sj_v=sum_of_I/n\n",
    "        return Sj_v\n",
    "    \n",
    "    # YOUR CODE HERE"
   ]
  },
  {
   "cell_type": "code",
   "execution_count": 4,
   "id": "aa910e06-7336-4b9e-959f-d2fe007262ed",
   "metadata": {},
   "outputs": [
    {
     "data": {
      "text/plain": [
       "0.6666666666666666"
      ]
     },
     "execution_count": 4,
     "metadata": {},
     "output_type": "execute_result"
    }
   ],
   "source": [
    "# Test your code in this block\n",
    "import numpy as np\n",
    "matrix_1=np.array([[1,2,3],[4,5,6],[7,8,9]])\n",
    "nd_marginal_dist(matrix_1, 0, 3, lower=False)"
   ]
  },
  {
   "cell_type": "code",
   "execution_count": null,
   "id": "6559fb99-b2d8-4ab5-8fb7-b8798995c793",
   "metadata": {
    "deletable": false,
    "editable": false,
    "nbgrader": {
     "cell_type": "code",
     "checksum": "a10f9ba6a8b9aa9ed2e3b0754ac64602",
     "grade": true,
     "grade_id": "cell-c421f8aa09863965",
     "locked": true,
     "points": 2,
     "schema_version": 3,
     "solution": false,
     "task": false
    },
    "tags": []
   },
   "outputs": [],
   "source": [
    "# Leave this block empty\n"
   ]
  },
  {
   "cell_type": "markdown",
   "id": "bed24f7f-8821-4e4a-a86c-4be6a10ec82c",
   "metadata": {
    "deletable": false,
    "editable": false,
    "nbgrader": {
     "cell_type": "markdown",
     "checksum": "f2971d47bebe03ef2f13d659845dc6c9",
     "grade": false,
     "grade_id": "cell-e28ed425b849c4e1",
     "locked": true,
     "schema_version": 3,
     "solution": false,
     "task": false
    },
    "tags": []
   },
   "source": [
    "## Part 2a\n",
    "\n",
    "Repeat the same idea now for an analogous function (without *NumPy*) to be called `pairwise_dist(x_matrix, j, k, v1, v2)`. This function should return $F_{jk}(v_1, v_2)$ if `lower=True` and $S_{jk}(v_1, v_2)$ if `lower=False`. The default value of `lower` should be `True`.\n"
   ]
  },
  {
   "cell_type": "code",
   "execution_count": 5,
   "id": "b70f6af1-b039-4d37-9135-e8f3a81b3917",
   "metadata": {
    "deletable": false,
    "nbgrader": {
     "cell_type": "code",
     "checksum": "8c5ef058635dc90de76a131e2975ade8",
     "grade": false,
     "grade_id": "cell-026d89f2f40ca305",
     "locked": false,
     "schema_version": 3,
     "solution": true,
     "task": false
    },
    "tags": []
   },
   "outputs": [],
   "source": [
    "def pairwise_dist(x_matrix, j, k, v1, v2, lower = True):\n",
    "    \n",
    "    if lower==True:\n",
    "        sum_of_I=0\n",
    "        n=0\n",
    "        for i in range(len(x_matrix)):  #loop that goes through every row of the matrix\n",
    "            if x_matrix[i][j]<=v1 and x_matrix[i][k]<=v2:  #checks if the row in the j-th column is less than or equal to v1 and if the same row in the k-th column is less than or equal to v2\n",
    "                sum_of_I+=1  #1 is added if the condition is satisfied\n",
    "            n+=1  #number of rows\n",
    "            Fj_v=sum_of_I/n  #Calculates the cumulative distribution\n",
    "        return Fj_v  \n",
    "    \n",
    "    elif lower==False:\n",
    "        sum_of_I=0\n",
    "        n=0\n",
    "        for i in range(len(x_matrix)):  #loop that goes through every row of the matrix\n",
    "            if x_matrix[i][j]>v1 and x_matrix[i][k]>v2:  #checks if the row in the j-th column is greater than v1 and if the same row in the k-th column is greater than v2\n",
    "                sum_of_I+=1  #1 is added if the condition is satisfied\n",
    "            n+=1  #number of rows\n",
    "            Sj_v=sum_of_I/n\n",
    "        return Sj_v   \n",
    "    # YOUR CODE HERE"
   ]
  },
  {
   "cell_type": "code",
   "execution_count": 6,
   "id": "fb0743f0-a24e-4457-ab84-253e5e04b5be",
   "metadata": {},
   "outputs": [
    {
     "data": {
      "text/plain": [
       "0.6666666666666666"
      ]
     },
     "execution_count": 6,
     "metadata": {},
     "output_type": "execute_result"
    }
   ],
   "source": [
    "# Test your code in this block\n",
    "matrix_1=[[1,2,3],[4,5,6],[7,8,9]]\n",
    "pairwise_dist(matrix_1, 0, 1, 3,4,lower=False)"
   ]
  },
  {
   "cell_type": "markdown",
   "id": "c9696110-7ab9-4b2d-8310-a44462aa7f9b",
   "metadata": {
    "deletable": false,
    "editable": false,
    "nbgrader": {
     "cell_type": "markdown",
     "checksum": "c4d32817caa70556252a75fe62aee8a0",
     "grade": false,
     "grade_id": "cell-ddd92a83e09b579b",
     "locked": true,
     "schema_version": 3,
     "solution": false,
     "task": false
    },
    "tags": []
   },
   "source": [
    "## Part 2b\n",
    "\n",
    "Now write the corresponding *NumPy* version of this function `nd_pairwise_dist(x_matrix, j, k, v1, v2, lower = True)`, but where `x_matrix` is a `ndarray` and you are allowed to use `numpy` in any way you want, but *no other package*. "
   ]
  },
  {
   "cell_type": "code",
   "execution_count": 7,
   "id": "b7d7521c-601e-4bbe-9a38-5106a0627523",
   "metadata": {
    "deletable": false,
    "nbgrader": {
     "cell_type": "code",
     "checksum": "30e67b1e89e434e9a0d380ec5cd973d6",
     "grade": false,
     "grade_id": "cell-0fb8004eebead3ba",
     "locked": false,
     "schema_version": 3,
     "solution": true,
     "task": false
    },
    "tags": []
   },
   "outputs": [],
   "source": [
    "import numpy as np  #import the necessary modules\n",
    "\n",
    "def nd_pairwise_dist(x_matrix, j, k, v1, v2, lower = True):\n",
    "    if lower==True:\n",
    "        sum_of_I=0\n",
    "        n=0 \n",
    "        for i in range(len(x_matrix)):  #loop that goes through every row of the matrix\n",
    "            sum_of_I+=(np.where(x_matrix[i][j]<=v1,1,0)) and (np.where(x_matrix[i][k]<=v2,1,0))  #checks if the row in the j-th column is less than or equal to v1 and if the same row in the k-th column is less than or equal to v2, adds 1 to sum_of_I if satifisfied\n",
    "            n+=1  #number of rows\n",
    "            Fj_v=sum_of_I/n  #Calculates the cumulative distribution\n",
    "        return Fj_v\n",
    "    \n",
    "    elif lower==False:\n",
    "        sum_of_I=0\n",
    "        n=0\n",
    "        for i in range(len(x_matrix)):  #loop that goes through every row of the matrix\n",
    "            sum_of_I+=(np.where(x_matrix[i][j]>v1,1,0)) and (np.where(x_matrix[i][k]>v2,1,0))  #checks if the row in the j-th column is greater than v1 and if the same row in the k-th column is greater than v2, adds 1 to sum_of_I if satifisfied\n",
    "            n+=1  #number of rows\n",
    "            Sj_v=sum_of_I/n\n",
    "        return Sj_v  \n",
    "    \n",
    "    # YOUR CODE HERE"
   ]
  },
  {
   "cell_type": "code",
   "execution_count": 8,
   "id": "4a7d96a2-9837-4848-9845-94547f88cc70",
   "metadata": {},
   "outputs": [
    {
     "data": {
      "text/plain": [
       "0.6666666666666666"
      ]
     },
     "execution_count": 8,
     "metadata": {},
     "output_type": "execute_result"
    }
   ],
   "source": [
    "# Test your code in this block\n",
    "import numpy as np\n",
    "matrix_1=[[1,2,3],[4,5,6],[7,8,9]]\n",
    "nd_pairwise_dist(matrix_1, 0, 1, 3,4,lower=False)"
   ]
  },
  {
   "cell_type": "code",
   "execution_count": null,
   "id": "c4c6a443-9093-4f82-8112-0f5cf0552e55",
   "metadata": {
    "deletable": false,
    "editable": false,
    "nbgrader": {
     "cell_type": "code",
     "checksum": "072b26b0cf9987b767686127d161dddc",
     "grade": true,
     "grade_id": "cell-769b6cc4e624b3fd",
     "locked": true,
     "points": 2,
     "schema_version": 3,
     "solution": false,
     "task": false
    },
    "tags": []
   },
   "outputs": [],
   "source": [
    "# Leave this block empty\n"
   ]
  },
  {
   "cell_type": "markdown",
   "id": "3beff43c-32a3-4b3f-9496-1964aa813f81",
   "metadata": {
    "deletable": false,
    "editable": false,
    "nbgrader": {
     "cell_type": "markdown",
     "checksum": "9807fc20d3603d0156cd43201ca5b5b9",
     "grade": false,
     "grade_id": "cell-666c4e721049c004",
     "locked": true,
     "schema_version": 3,
     "solution": false,
     "task": false
    },
    "tags": []
   },
   "source": [
    "## Part 3a\n",
    "\n",
    "The conditional probability $\\mathbb{P}(X_j \\leq v1 \\mid X_k \\leq v2)$ is given by\n",
    "\n",
    "$$ \\mathbb{P}(X_j \\leq v1 \\mid X_k \\leq v2) = \\begin{cases} \\frac{F_{jk}(v1, v2)}{F_k(v2)} ~~~~ \\text{if} ~~~ F_k(v2) > 0 \\\\ \\text{undefined} ~~~~ \\text {otherwise}\\end{cases}$$\n",
    "\n",
    "Write a function (without *NumPy*) to be called `conditional_prob(x_matrix, j, k, v1, v2)` to calculate $\\mathbb{P}(X_j \\leq v1 \\mid X_k \\leq v2)$. You may use your functions from the previous parts, if you wish. Your function should print the warning `\"Conditional probability undefined\"` and return `None` if the conditional probability is undefined."
   ]
  },
  {
   "cell_type": "code",
   "execution_count": 9,
   "id": "9fb51af5-a24e-43fd-bb2c-11dfc646b046",
   "metadata": {
    "deletable": false,
    "nbgrader": {
     "cell_type": "code",
     "checksum": "67e671460ac6bdc25d8c5aadc330f301",
     "grade": false,
     "grade_id": "cell-d0e16849a2d0e7a2",
     "locked": false,
     "schema_version": 3,
     "solution": true,
     "task": false
    },
    "tags": []
   },
   "outputs": [],
   "source": [
    "def conditional_prob(x_matrix, j, k, v1, v2):\n",
    "    if marginal_dist(x_matrix, k, v2, lower = True)>0:  #checks if 𝐹𝑘(𝑣2)>0 so the equation is defined\n",
    "        prob=pairwise_dist(x_matrix, j, k, v1, v2)/marginal_dist(x_matrix, k, v2) #calculation for the conditional probability ℙ(𝑋𝑗≤𝑣1∣𝑋𝑘≤𝑣2) with the functions that contain NumPy \n",
    "        return prob \n",
    "    else:\n",
    "        print(\"Conditional probability undefined\")\n",
    "        return None #no value returned for this function\n",
    "\n",
    "    # YOUR CODE HERE"
   ]
  },
  {
   "cell_type": "code",
   "execution_count": 10,
   "id": "e331e93a-f91d-4187-9626-30314a77740b",
   "metadata": {},
   "outputs": [
    {
     "data": {
      "text/plain": [
       "0.5"
      ]
     },
     "execution_count": 10,
     "metadata": {},
     "output_type": "execute_result"
    }
   ],
   "source": [
    "# Test your code in this block\n",
    "matrix_1=[[1,2,3],[4,5,6],[7,8,9]]\n",
    "conditional_prob(matrix_1, 2, 0, 3,4)"
   ]
  },
  {
   "cell_type": "markdown",
   "id": "43faf2f2-9c0e-4382-a425-64830f648652",
   "metadata": {
    "deletable": false,
    "editable": false,
    "nbgrader": {
     "cell_type": "markdown",
     "checksum": "67fab1e155e9f76fdbc010a0af3c822d",
     "grade": false,
     "grade_id": "cell-7e364f39ade576bc",
     "locked": true,
     "schema_version": 3,
     "solution": false,
     "task": false
    },
    "tags": []
   },
   "source": [
    "## Part 3b\n",
    "Now write the corresponding *NumPy* version of this function `nd_conditional_prob(x_matrix, j, k, v1, v2, lower = True)`, but where `x_matrix` is a `ndarray` and you are allowed to use `numpy` in any way you want, but *no other package*. You may use your functions from the previous parts, if you wish."
   ]
  },
  {
   "cell_type": "code",
   "execution_count": 11,
   "id": "7e8a3400-6f74-41b8-a609-de778ae30de1",
   "metadata": {
    "deletable": false,
    "nbgrader": {
     "cell_type": "code",
     "checksum": "6263e982dab27dfcbf0a134104fd6b2c",
     "grade": false,
     "grade_id": "cell-7a52df8d13e3b95d",
     "locked": false,
     "schema_version": 3,
     "solution": true,
     "task": false
    },
    "tags": []
   },
   "outputs": [],
   "source": [
    "import numpy as np\n",
    "\n",
    "def nd_conditional_prob(x_matrix, j, k, v1, v2):\n",
    "    if nd_marginal_dist(x_matrix, k, v2, lower = True)>0:  #checks if 𝐹𝑘(𝑣2)>0 so the equation is defined\n",
    "        prob=nd_pairwise_dist(x_matrix, j, k, v1, v2)/nd_marginal_dist(x_matrix, k, v2)  #calculation for the conditional probability ℙ(𝑋𝑗≤𝑣1∣𝑋𝑘≤𝑣2) with the functions that contain NumPy\n",
    "        return prob\n",
    "    else:\n",
    "        print(\"Conditional probability undefined\")\n",
    "        return None  #no value returned for this function\n",
    "    \n",
    "    # YOUR CODE HERE"
   ]
  },
  {
   "cell_type": "code",
   "execution_count": 12,
   "id": "6b840a8d-b9bc-4c05-a57b-fd606fa6b9d0",
   "metadata": {},
   "outputs": [
    {
     "data": {
      "text/plain": [
       "0.5"
      ]
     },
     "execution_count": 12,
     "metadata": {},
     "output_type": "execute_result"
    }
   ],
   "source": [
    "# Test your code in this block\n",
    "import numpy as np\n",
    "matrix_2=np.array([[1,2,3],[4,5,6],[7,8,9]])\n",
    "nd_conditional_prob(matrix_1, 2, 0, 3, 4)"
   ]
  },
  {
   "cell_type": "code",
   "execution_count": null,
   "id": "90eb1cbf-0535-4be7-b06c-b41afb026d83",
   "metadata": {
    "deletable": false,
    "editable": false,
    "nbgrader": {
     "cell_type": "code",
     "checksum": "b478c92b8737df941b9a8987f220a75f",
     "grade": true,
     "grade_id": "cell-b3f5d830088675bb",
     "locked": true,
     "points": 2,
     "schema_version": 3,
     "solution": false,
     "task": false
    },
    "tags": []
   },
   "outputs": [],
   "source": [
    "# Leave this block empty\n"
   ]
  },
  {
   "cell_type": "markdown",
   "id": "f711a6a1-51ee-46aa-99db-9cb4f486d4fa",
   "metadata": {
    "deletable": false,
    "editable": false,
    "nbgrader": {
     "cell_type": "markdown",
     "checksum": "bb047e2eb14a899e8092c1c026c80728",
     "grade": false,
     "grade_id": "cell-e943f29e8458373e",
     "locked": true,
     "schema_version": 3,
     "solution": false,
     "task": false
    },
    "tags": []
   },
   "source": [
    "## Part 4\n",
    "Write a function called `benchmark_conditional_prob` where you provide some test data, which will take the form of a two-dimensional list and a `ndarray`, and report the wall-clock time of calling each of the two Python functions from Part 3."
   ]
  },
  {
   "cell_type": "code",
   "execution_count": 13,
   "id": "29ef4a18-265b-4a6b-8aee-83d0b2544af0",
   "metadata": {
    "deletable": false,
    "nbgrader": {
     "cell_type": "code",
     "checksum": "87091d07ba82f73d86b099b28ba07abd",
     "grade": false,
     "grade_id": "cell-bb42fa7452a06c85",
     "locked": false,
     "schema_version": 3,
     "solution": true,
     "task": false
    },
    "tags": []
   },
   "outputs": [],
   "source": [
    "import time\n",
    "\n",
    "def benchmark_conditional_prob():\n",
    "    matrix_1=[[1,2,3],[4,5,6],[2,4,5]]\n",
    "    start_1=time.time()  #get the current time\n",
    "    conditional_prob(matrix_1, 1, 2, 4.5, 4)  #call the first function which doesn't use NumPy\n",
    "    end_1=time.time()  #get the current time\n",
    "    time_1=end_1-start_1  #calculate the time the first function took to run\n",
    "    print(\"The wall-clock time for matrix_1 is\", time_1)\n",
    "    \n",
    "    matrix_2=np.array([[1,2,3],[4,5,6],[2,4,5]])\n",
    "    start_2=time.time()  #get the current time\n",
    "    nd_conditional_prob(matrix_2, 1, 2, 4.5, 4)  #call the first function which doesn't use NumPy\n",
    "    end_2=time.time()  #get the current time\n",
    "    time_2=end_2-start_2  #calculate the time the second function took to run\n",
    "    print(\"The wall-clock time for matrix_2 is\", time_2)\n",
    "    return time_1, time_2  #return the time both functions took to run\n",
    "\n",
    "    # YOUR CODE HERE"
   ]
  },
  {
   "cell_type": "code",
   "execution_count": 14,
   "id": "eba663ae-b5da-40ff-91e0-d3decbbec1c4",
   "metadata": {},
   "outputs": [
    {
     "name": "stdout",
     "output_type": "stream",
     "text": [
      "The wall-clock time for matrix_1 is 7.867813110351562e-06\n",
      "The wall-clock time for matrix_2 is 0.00011110305786132812\n"
     ]
    },
    {
     "data": {
      "text/plain": [
       "(7.867813110351562e-06, 0.00011110305786132812)"
      ]
     },
     "execution_count": 14,
     "metadata": {},
     "output_type": "execute_result"
    }
   ],
   "source": [
    "# Test your code in this block\n",
    "benchmark_conditional_prob()"
   ]
  },
  {
   "cell_type": "code",
   "execution_count": null,
   "id": "dee8f111-4995-474c-b268-9b71f35b1d1a",
   "metadata": {
    "deletable": false,
    "editable": false,
    "nbgrader": {
     "cell_type": "code",
     "checksum": "739e035d51989d2bd211c0b7d2b86401",
     "grade": true,
     "grade_id": "cell-42c32b631327fe95",
     "locked": true,
     "points": 2,
     "schema_version": 3,
     "solution": false,
     "task": false
    },
    "tags": []
   },
   "outputs": [],
   "source": [
    "# Leave this block empty\n"
   ]
  },
  {
   "cell_type": "markdown",
   "id": "5bea905b-7fd0-4eac-9b03-ce4fbaad0702",
   "metadata": {
    "deletable": false,
    "editable": false,
    "nbgrader": {
     "cell_type": "markdown",
     "checksum": "7a66dde11e3cbe1b827d7cdd66b72818",
     "grade": false,
     "grade_id": "cell-a10a199591110c1d",
     "locked": true,
     "schema_version": 3,
     "solution": false,
     "task": false
    },
    "tags": []
   },
   "source": [
    "# Part 5\n",
    "\n",
    "Explain what each function does, concisely but in enough detail so that any of your peers can follow. Aim for a total of 6-10 sentences."
   ]
  },
  {
   "cell_type": "markdown",
   "id": "a81a4da7-67bb-4f25-8bc9-32f63fc97265",
   "metadata": {
    "deletable": false,
    "nbgrader": {
     "cell_type": "markdown",
     "checksum": "30d4a66b583515a9fa16617d22d38389",
     "grade": true,
     "grade_id": "cell-6a81208049769237",
     "locked": false,
     "points": 2,
     "schema_version": 3,
     "solution": true,
     "task": false
    },
    "tags": []
   },
   "source": [
    "YOUR ANSWER HERE\n",
    "\n",
    "For the function in Part 1a, we had to write a function that calculated the cumulative distribution of the proportion of rows in a column of a matrix that is less than or greater than an arbitrary number by looping through the rows. For the function in Part 1b, we had to write a function that involved NumPy to calculate the sum of I either when the row is less than or greater than an arbitrary number.\n",
    "The function in Part 2a involved calculating the cumulative distribution of the proportion of rows in 2 columns of a matrix that are both simultaneously either less than or greater than their respective arbitrary number, v and k. This was done by looping through both rows simultaneously. For the function in part 2b, we had to write a function that involved NumPy to calculate the sum of I either when the rows in 2 columns were less than or greater than their respective arbitrary number.\n",
    "The function in Part 3a involved using the function from part 2a to calculate 𝐹𝑗𝑘(𝑣1,𝑣2) and dividing by the function from part 1a which was used to calculate the 𝐹𝑘(𝑣2). This function was based on the condition that 𝐹𝑘(𝑣2) was greater than 0 or else the calculation would be undefined. For the function in part 3b, this involved both functions from parts 2a and 1a which contain NumPy and dividing the function from part 2a by 1a.\n",
    "The function in Part 4 tested the time it took to run both functions from parts 3a and 3b as the function in 3b uses NumPy. The TIME package was used for this function to create the time interval for both functions from the start of running the function to when the function ends."
   ]
  }
 ],
 "metadata": {
  "kernelspec": {
   "display_name": "Python 3 (ipykernel)",
   "language": "python",
   "name": "python3"
  },
  "language_info": {
   "codemirror_mode": {
    "name": "ipython",
    "version": 3
   },
   "file_extension": ".py",
   "mimetype": "text/x-python",
   "name": "python",
   "nbconvert_exporter": "python",
   "pygments_lexer": "ipython3",
   "version": "3.9.12"
  }
 },
 "nbformat": 4,
 "nbformat_minor": 5
}
