{
 "cells": [
  {
   "cell_type": "code",
   "execution_count": null,
   "id": "6697b161-1912-4551-b4f0-05f68a085989",
   "metadata": {
    "deletable": false,
    "editable": false,
    "nbgrader": {
     "cell_type": "code",
     "checksum": "db55e1311ba4ce3349701a54e60d63e3",
     "grade": true,
     "grade_id": "cell-1d588906e8ca990c",
     "locked": true,
     "points": 8,
     "schema_version": 3,
     "solution": false,
     "task": false
    },
    "tags": []
   },
   "outputs": [],
   "source": [
    "# Test your code in this block\n",
    "\n"
   ]
  },
  {
   "cell_type": "markdown",
   "id": "ba275209",
   "metadata": {},
   "source": [
    "Before you turn this problem in, make sure everything runs as expected. First, **restart the kernel** (in the menubar, select Kernel$\\rightarrow$Restart) and then **run all cells** (in the menubar, select Cell$\\rightarrow$Run All).\n",
    "\n",
    "Make sure you fill in any place that says `YOUR CODE HERE` or \"YOUR ANSWER HERE\"."
   ]
  },
  {
   "cell_type": "markdown",
   "id": "f086f4a2",
   "metadata": {},
   "source": [
    "---"
   ]
  },
  {
   "cell_type": "markdown",
   "id": "656eb679-cd1a-4b2d-849c-ca28cd6e6774",
   "metadata": {
    "deletable": false,
    "editable": false,
    "nbgrader": {
     "cell_type": "markdown",
     "checksum": "b6f399096b6e539b3636918047024e82",
     "grade": false,
     "grade_id": "cell-d266108b83ece7a0",
     "locked": true,
     "schema_version": 3,
     "solution": false,
     "task": false
    },
    "tags": []
   },
   "source": [
    "# Section C: Question 2\n",
    "\n",
    "You run a temporary staffing company and need to hire some temporary employees for a number of projects. There are six employees in the hiring pool. Each employee $i$ has an available number of weekly hours $h_i$ and a weekly salary $s_j$. Each project $j$ requires $c_j$ weekly hours to be completed. An employee may be allocated to more than one project. An employee with a higher number of weekly hours will have a strictly greater salary, i.e. $h_i > h_j \\implies s_i > s_j$. \n",
    "\n",
    "## Part 1\n",
    "\n",
    "Write a function `select_employees` that selects enough employees to cover all the hours needed by the projects, with the aim of minimising the total weekly salary. Your function should take as input a list of `salaries` for each employee, a list of quality `hours` for each employee, and a list of `project_hours`. The function should return the list of employees, e.g. `[1, 3, 4, 7, 8]`. If the total number of employee hours is not enough to cover the total number of project hours, your function should print the message \"Warning: there are not enough employees to complete all the projects.\", and return the list of all employees, i.e. `[0, 1, 2, 3, 4, 5, 6, 7]`.\n",
    "\n",
    "Your function does _not_ need to be optimal in the sense that it is guaranteed to return the employees with the lowest total salary possible, but it should at least be well motivated.\n",
    "\n"
   ]
  },
  {
   "cell_type": "code",
   "execution_count": 5,
   "id": "9727ecd2-2bdf-44f9-83ae-cfa40cc88d41",
   "metadata": {
    "deletable": false,
    "nbgrader": {
     "cell_type": "code",
     "checksum": "c4aaa7f70d7923e9b54e288d883d9a32",
     "grade": false,
     "grade_id": "cell-115bb2166e934863",
     "locked": false,
     "schema_version": 3,
     "solution": true,
     "task": false
    },
    "tags": []
   },
   "outputs": [],
   "source": [
    "def select_employees(salaries, hours, project_hours):\n",
    "    # YOUR CODE HERE\n",
    "    employees_available = [0, 1, 2, 3, 4, 5]\n",
    "    if sum(project_hours) > sum(hours):\n",
    "        print(\"Warning: there are not enough employees to complete all the projects.\")\n",
    "        return employees_available\n",
    "    employees_used, hours_covered = [], 0\n",
    "    while hours_covered < sum(project_hours):\n",
    "        hours_covered += max(hours)\n",
    "        employees_used.append(employees_available[hours.index(max(hours))])\n",
    "        employees_available.pop(hours.index(max(hours)))\n",
    "        hours.pop(hours.index(max(hours)))\n",
    "    return sorted(employees_used)"
   ]
  },
  {
   "cell_type": "markdown",
   "id": "7ba0437b-cbd8-4664-be58-7fe7e26416cf",
   "metadata": {
    "deletable": false,
    "editable": false,
    "nbgrader": {
     "cell_type": "markdown",
     "checksum": "709fe07d9a8a35d4b94669523cf4237d",
     "grade": false,
     "grade_id": "cell-d0e430f4f0ab07c7",
     "locked": true,
     "schema_version": 3,
     "solution": false,
     "task": false
    },
    "tags": []
   },
   "source": [
    "Provide an example of the variables `salaries`, `hours`, `project_hours`, and call the function `select_employees` with them."
   ]
  },
  {
   "cell_type": "code",
   "execution_count": 23,
   "id": "2c11f326-ce3e-4b05-bee4-5571550c4e74",
   "metadata": {},
   "outputs": [
    {
     "data": {
      "text/plain": [
       "[0, 1, 2, 5]"
      ]
     },
     "execution_count": 23,
     "metadata": {},
     "output_type": "execute_result"
    }
   ],
   "source": [
    "# Test your code in this block\n",
    "hours = [4,5,7,2,4,6]\n",
    "salaries = [105,118,156,60,100,143]\n",
    "project_hours = [4,3,13]\n",
    "\n",
    "select_employees(salaries, hours, project_hours)"
   ]
  },
  {
   "cell_type": "markdown",
   "id": "41f4cf77-4d8d-476b-937d-21558d1fc9b4",
   "metadata": {
    "deletable": false,
    "editable": false,
    "nbgrader": {
     "cell_type": "markdown",
     "checksum": "02fc23970170a134944b41413f21ead3",
     "grade": false,
     "grade_id": "cell-d4db40903d3364b8",
     "locked": true,
     "schema_version": 3,
     "solution": false,
     "task": false
    },
    "tags": []
   },
   "source": [
    "## Part 2\n",
    "\n",
    "Write a short Markdown paragraph explaining how the code works and explain either  \n",
    "i) why your solution is guaranteed to return the best possible team, or  \n",
    "ii) why it is a reasonable idea even if not optimal, and a counter-example where it fails to find the best possible team."
   ]
  },
  {
   "cell_type": "markdown",
   "id": "f711a6a1-51ee-46aa-99db-9cb4f486d4fa",
   "metadata": {
    "deletable": false,
    "jp-MarkdownHeadingCollapsed": true,
    "nbgrader": {
     "cell_type": "markdown",
     "checksum": "0b24c21d3342a4831c0251644d7c42ae",
     "grade": true,
     "grade_id": "cell-e943f29e8458373e",
     "locked": false,
     "points": 2,
     "schema_version": 3,
     "solution": true,
     "task": false
    },
    "tags": []
   },
   "source": [
    "In the function `select_employees` we first create a list of `employees_available` which stores the employees not yet used for the projects - so initially this is all 6 employees. Then we immediately check if there are enough employee hours to cover all project hours and give the relevant outputs if not, as there is no point continuing in this case.\n",
    "\n",
    "Once this check is done, we move on to deciding which employees to use. `employees_used` is a list created to store which employees have been chosen to work on the projects and `hours_covered` stores how many hours so far are covered. We then make use of a while loop that runs as long as the hours we have covered so far are not enough to cover all project hours. In each pass we add the most available weekly hours of any unused employee to `hours_covered` and the corresponding employee to `employees_used`. `employees_available` and `hours` are updated to remove this employee and their weekly hours. Once the loop is broken the list of employees to be used for the projects is returned (and sorted for convenience).\n",
    "\n",
    "This method is a reasonable and well-motivated idea as since it includes employees in decreasing order of weekly work hours it guarantees the number of employees used is the minimum possible, so the employer will never be paying more people than the optimal solution. However it is not necessarily optimal as there can be ways of swapping in a cheaper employee and still having enough employee hours to cover all the work hours.\n",
    "\n",
    "For example:\n",
    "<br> `hours = [4,5,7,2,4,6]`\n",
    "<br> `salaries = [105,118,156,60,100,143]`\n",
    "<br> `project_hours = [4,3,13]`\n",
    "<br> In this case the function will return `[0, 1, 2, 5]` which has a cost of 522. While this guarantees there is no way of using three or fewer employees, this is not the optimal solution, which is `[1, 2, 3, 5]` which would have a cost of 477."
   ]
  }
 ],
 "metadata": {
  "kernelspec": {
   "display_name": "Python 3 (ipykernel)",
   "language": "python",
   "name": "python3"
  },
  "language_info": {
   "codemirror_mode": {
    "name": "ipython",
    "version": 3
   },
   "file_extension": ".py",
   "mimetype": "text/x-python",
   "name": "python",
   "nbconvert_exporter": "python",
   "pygments_lexer": "ipython3",
   "version": "3.9.12"
  }
 },
 "nbformat": 4,
 "nbformat_minor": 5
}
