{
 "cells": [
  {
   "cell_type": "markdown",
   "id": "6537b921",
   "metadata": {},
   "source": [
    "Before you turn this problem in, make sure everything runs as expected. First, **restart the kernel** (in the menubar, select Kernel$\\rightarrow$Restart) and then **run all cells** (in the menubar, select Cell$\\rightarrow$Run All).\n",
    "\n",
    "Make sure you fill in any place that says `YOUR CODE HERE` or \"YOUR ANSWER HERE\"."
   ]
  },
  {
   "cell_type": "markdown",
   "id": "f5d79365",
   "metadata": {},
   "source": [
    "---"
   ]
  },
  {
   "cell_type": "markdown",
   "id": "656eb679-cd1a-4b2d-849c-ca28cd6e6774",
   "metadata": {
    "deletable": false,
    "editable": false,
    "nbgrader": {
     "cell_type": "markdown",
     "checksum": "69bb57e28b54ae7241ea58fd80e45a1d",
     "grade": false,
     "grade_id": "cell-d266108b83ece7a0",
     "locked": true,
     "schema_version": 3,
     "solution": false,
     "task": false
    },
    "tags": []
   },
   "source": [
    "# Section C\n",
    "\n",
    "*In which you will approximately compute the expected time it will take for tickets to sell out for a famous festival.*\n",
    "\n",
    "Blastonbury is a fictional festival of contemporary arts that takes place every year in late June. Tickets for the festival are sold online via a sequential queuing system. That is, there is a sequence of $k$ queues, $Q_0, Q_1, \\dots Q_{k-1}$ that each customer must go through in order to secure a ticket. \n",
    "\n",
    "The total number of customers trying to buy tickets is $n$, and they all begin in $Q_0$ in a random order. There are a limited number of tickets, $m$, and every year there are more customers than tickets available. That is, $m < n$.\n",
    "\n",
    "Joining and leaving queues take place in time, and we count time in discrete units. That is, time ticks at $t = 1, 2, 3, \\dots, T_{final}$, where each tick is 1 minute, and $T_{final}$ is the total time it takes for all the tickets to sell out.\n",
    "\n",
    "At each each time point $t$, \n",
    "\n",
    "* with probability $p_i$, each queue $i$ moves the person at its front to the end of queue $i + 1$. If $i = k-1$, this person successfully purchases a ticket;\n",
    "* with probability $s_i$, the system for queue $i$ crashes, and the person at the front of the queue is kicked out, joining the back of queue 1. \n",
    "\n",
    "## Part 1\n",
    "\n",
    "Create a function `update_queueing(queues, p, s)` which is assumed to take the following arguments:\n",
    "\n",
    "* `queues` is a list of $k+1$ `deque` objects (corresponding to our conceptual $Q_0, \\dots, Q_{k-1}$, and a final 'queue' $Q_{k}$ consisting of those with successful ticket purchases). Each `deque` object contains integers representing customer ids. They are assumed to be unique, that is, no single number appears more than once across all `deque` objects;\n",
    "* `p` is a `ndarray` of numbers in $(0, 1)$, where `p[i]` is the probability of the front element of that queue moving to the end of the next (or leaving altogether if the last queue);\n",
    "* `s` is a `ndarray` of numbers in $(0, 1)$, where `s[i]` is the probability of the front element of that queue moving to the end of the first queue.\n",
    "\n",
    "Your function will simulate one time-step of festival ticket queue processing system: each queue will move the person at the front with some probability, and either to the end of the next queue, or the end of the first queue. \n",
    "\n",
    "Note that multiple people may join the end of the first queue in one time step. It does not matter in which order they join the end of the queue. \n",
    "\n",
    "It should not be possible to move forward by more than one queue in one time step. However, someone joins the first queue from a different queue and the first queue is empty, then that person has an opportunity to be processed in the same time step.\n"
   ]
  },
  {
   "cell_type": "code",
   "execution_count": 289,
   "id": "d3fb7291-af27-4bce-bf74-d263b453cebb",
   "metadata": {
    "deletable": false,
    "nbgrader": {
     "cell_type": "code",
     "checksum": "f978d2601c421e1ca41997332e2f6554",
     "grade": false,
     "grade_id": "cell-1cdc8314d5ccfe47",
     "locked": false,
     "schema_version": 3,
     "solution": true,
     "task": false
    },
    "tags": []
   },
   "outputs": [],
   "source": [
    "def update_queueing(queues, p, s):\n",
    "    \n",
    "    sold = False\n",
    "    \n",
    "    for i in range(len(queues)):\n",
    "        \n",
    "        x = random.uniform(0, 1)  #creates a random float between 0 and 1\n",
    "        \n",
    "        if x<=p[i] and len(queues[i])>0:  #checks the probability of the front element of that queue to move to the end of the next, and checks if the queue is not empty\n",
    "            if i==len(queues)-1:  #checks if this is the final queue, thus making the customer buying a ticket\n",
    "                queues[i].popleft()  #remove the first customer of the final queue that has succesfully bought a ticket\n",
    "                sold = True\n",
    "                #print(\"The person from queue\", i, \"bought a ticket\")\n",
    "            else:\n",
    "                queues[i+1].append(queues[i].popleft())  #makes the first person from any other queue move to the end of the next queue\n",
    "                #print(\"The person moved from queue\", i, \"to\", i+1)\n",
    "            \n",
    "        elif p[i]<x and x<=s[i] and len(queues[i])>=0: #checks the probability of the front element of that queue to move to the end of the first queue\n",
    "            for queue in queues:\n",
    "                if len(queue)>=0:\n",
    "                    if len(queues[i]) > 0:\n",
    "                        queue.append(queues[i].popleft())  #append the customer where the probability is met to the end of the first queue\n",
    "                        break\n",
    "                    \n",
    "            #print(\"The system for queue\", i ,\"crashes\")        \n",
    "        \n",
    "    return [queues, sold]\n",
    "        \n",
    "    \n",
    "    # YOUR CODE HERE"
   ]
  },
  {
   "cell_type": "code",
   "execution_count": 290,
   "id": "d3e5e415-22d9-41be-8c1d-1a327ec99b1f",
   "metadata": {},
   "outputs": [
    {
     "name": "stdout",
     "output_type": "stream",
     "text": [
      "[[deque([3, 5, 8, 1, 6, 5, 9]), deque([8, 6, 5, 1]), deque([5, 3, 7, 2, 1, 3]), deque([5, 2, 3, 1]), deque([0, 3, 4, 7, 8, 9]), deque([1, 6, 9, 8]), deque([1, 2, 3, 0, 5, 5]), deque([4, 8, 7, 0]), deque([9, 3, 6, 2, 1]), deque([4, 5, 1, 2, 3]), deque([5, 4, 2, 7]), deque([8, 3, 1, 9, 1]), deque([1, 3, 4, 6, 9, 2]), deque([0, 1, 4, 3]), deque([3, 4, 9, 1, 6]), deque([8, 3, 4, 2, 2]), deque([4, 9, 2, 5, 7]), deque([5, 2, 4, 8, 0]), deque([9, 3, 6, 8, 7]), deque([2, 3, 9, 6, 5]), deque([3, 4, 7, 9, 0, 0]), deque([0, 4, 1, 7, 5]), deque([0, 8, 6, 3]), deque([0, 7, 5, 3, 9]), deque([7, 1, 3, 5, 1]), deque([2, 5, 6, 7, 1, 6]), deque([6, 7, 8, 4]), deque([2, 6, 8, 4, 0]), deque([0, 9, 1, 4, 7]), deque([2, 8, 1, 4, 5]), deque([2, 7, 3, 8, 3]), deque([5, 8, 6, 4, 5]), deque([3, 0, 8, 7, 1, 3]), deque([2, 9, 5, 0]), deque([0, 9, 2, 5, 6]), deque([6, 7, 4, 5, 4]), deque([6, 7, 5, 4, 0]), deque([1, 5, 0, 2, 8, 0]), deque([6, 9, 5, 0]), deque([8, 1, 0, 3, 2]), deque([6, 2, 5, 9, 7]), deque([7, 2, 8, 6, 7]), deque([5, 3, 7, 2, 4]), deque([3, 6, 7, 9, 1, 4]), deque([0, 3, 5, 7]), deque([0, 2, 7, 8]), deque([6, 9, 3, 2, 6]), deque([8, 1, 3, 9, 4]), deque([4, 0, 1, 8, 5]), deque([2, 3, 6, 8, 2])], True]\n"
     ]
    }
   ],
   "source": [
    "# Test your code in this block\n",
    "from collections import deque\n",
    "import random\n",
    "import numpy as np  #import the necessary modules\n",
    "\n",
    "queues = []  #create an empty list for the queues\n",
    "k = 50  #set k to 50 which represents the amount of queues\n",
    "for i in range(k):\n",
    "    new_queue = random.sample(range(10), 5) #creates a list of 5 random integers from 0 to 10 excluded\n",
    "    queues.append(deque(new_queue))  #append the previously created list to the queues list in deque form\n",
    "    \n",
    "\n",
    "p=np.array([random.uniform(0.5, 1) for i in range(k)])  #creates an array of random floats between 0.5 and 1 for the probability of succesfully buying a ticket\n",
    "s=np.array([random.uniform(0, 1) for i in range(k)])  #creates an array of random floats between 0 and 1 for the probabbility of the first element of a queue moving to the end of the first queue\n",
    "print(update_queueing(queues, p, s))\n",
    "#change the list"
   ]
  },
  {
   "cell_type": "code",
   "execution_count": null,
   "id": "933ae16d-ac49-4809-858f-1a6016a642cb",
   "metadata": {
    "deletable": false,
    "editable": false,
    "nbgrader": {
     "cell_type": "code",
     "checksum": "edae83a643a72836cb06aec12ea42743",
     "grade": true,
     "grade_id": "cell-456f5d2cc0331972",
     "locked": true,
     "points": 3,
     "schema_version": 3,
     "solution": false,
     "task": false
    },
    "tags": []
   },
   "outputs": [],
   "source": [
    "# Leave this block empty\n"
   ]
  },
  {
   "cell_type": "markdown",
   "id": "692b16d7-973d-4427-9de8-97b543cde0a3",
   "metadata": {
    "deletable": false,
    "editable": false,
    "nbgrader": {
     "cell_type": "markdown",
     "checksum": "63bd735423b0f0d01e2df8999d9dae21",
     "grade": false,
     "grade_id": "cell-44bd178e71afe242",
     "locked": true,
     "schema_version": 3,
     "solution": false,
     "task": false
    },
    "tags": []
   },
   "source": [
    "## Part 2\n",
    "\n",
    "Next, write a function called `simulate_ticket_system(k, m, n, p, s)` where $k$ is the number of queues, $m$ is the total number of tickets available, $n$ is the number of customers, and $p$ and $q$ are as in part 1. It will make use of `update_queueing`, passing the corresponding arguments. Your function should return both the time taken for the tickets to sell out, and the final state of the queues.\n"
   ]
  },
  {
   "cell_type": "code",
   "execution_count": 291,
   "id": "8add36b6-3eeb-4242-8984-ec3f6dbac797",
   "metadata": {
    "deletable": false,
    "nbgrader": {
     "cell_type": "code",
     "checksum": "33ef2160befc2276b22565a0178cc7f5",
     "grade": false,
     "grade_id": "cell-ddc0e2b1f8d591e2",
     "locked": false,
     "schema_version": 3,
     "solution": true,
     "task": false
    },
    "tags": []
   },
   "outputs": [],
   "source": [
    "def simulate_ticket_system(k, m, n, p, s):\n",
    "    # YOUR CODE HERE\n",
    "    tickets = 0  #amount of tickets sold\n",
    "    t = 0  #time ticks in minutes\n",
    "    while m > 0 and n > 0:  #condition that will run the loop until we run out of customers or tickets\n",
    "        t += 1  #update the time tick\n",
    "        update = update_queueing(queues, p, s)  #call the previously created function to update the queuing system\n",
    "        if update[1] == True:  #checks if a ticket was sold\n",
    "            m -= 1  #a ticket was bought thus removing one ticket from the total amount of tickets\n",
    "            n -= 1  #removing one customer from the total amount of customers\n",
    "            tickets += 1  #one ticket was bought\n",
    "    if m == 0:  #checks if the tickets ran out\n",
    "        return \"tickets sold out in\", t,\"minutes,\", n, \"customers didn't get a ticket\"\n",
    "    if n == 0:  #checks if all customers got a ticket\n",
    "        return \"every customer got a ticket in\", t,\"minutes\"\n",
    "        "
   ]
  },
  {
   "cell_type": "code",
   "execution_count": 292,
   "id": "b76f57f5-a53d-492a-afbc-2d02962248fa",
   "metadata": {},
   "outputs": [
    {
     "name": "stdout",
     "output_type": "stream",
     "text": [
      "('tickets sold out in', 11334, 'minutes,', 50, \"customers didn't get a ticket\")\n"
     ]
    }
   ],
   "source": [
    "# Test your code in this block\n",
    "\n",
    "queues = []  #create an empty list for the queues\n",
    "k = 50  #set k to 50 which represents the amount of queues\n",
    "for i in range(k):\n",
    "    new_queue = random.sample(range(10), 5) #creates a list of 5 random integers from 0 to 10 excluded\n",
    "    queues.append(deque(new_queue))  #append the previously created list to the queues list in deque form\n",
    "    \n",
    "\n",
    "p=np.array([random.uniform(0.5, 1) for i in range(k)])  #creates an array of random floats between 0.5 and 1 for the probability of succesfully buying a ticket\n",
    "s=np.array([random.uniform(0, 1) for i in range(k)])  #creates an array of random floats between 0 and 1 for the probabbility of the first element of a queue moving to the end of the first queue\n",
    "\n",
    "m = 200\n",
    "n = 0\n",
    "for i in queues:\n",
    "    n += len(i)\n",
    "\n",
    "print(simulate_ticket_system(k, m, n, p, s))\n",
    "#update_queueing(queues, p, s)"
   ]
  },
  {
   "cell_type": "code",
   "execution_count": null,
   "id": "409cdcf3-8748-4baf-9e48-cff0e97099b0",
   "metadata": {
    "deletable": false,
    "editable": false,
    "nbgrader": {
     "cell_type": "code",
     "checksum": "5ab491c7732062bccd4f22e682951cf3",
     "grade": true,
     "grade_id": "cell-6cad09b7ecc4fc00",
     "locked": true,
     "points": 3,
     "schema_version": 3,
     "solution": false,
     "task": false
    },
    "tags": []
   },
   "outputs": [],
   "source": [
    "# Leave this block empty\n"
   ]
  },
  {
   "cell_type": "markdown",
   "id": "93725df7-5d61-4f85-8bae-e3b3872e812c",
   "metadata": {
    "deletable": false,
    "editable": false,
    "nbgrader": {
     "cell_type": "markdown",
     "checksum": "afdefee9463d4a9430c098e85b9efe97",
     "grade": false,
     "grade_id": "cell-42176a98abbcfae3",
     "locked": true,
     "schema_version": 3,
     "solution": false,
     "task": false
    },
    "tags": []
   },
   "source": [
    "## Part 3\n",
    "\n",
    "Provide a small demonstration of `simulate_ticket_system` using arguments `k`, `m`, `n`, `p`, `s` and `num_simulations` of your choice. In this demonstration, print some messages of your choice explaining the output. \n",
    "\n",
    "Warning: the time it takes to run this simulation will depend strongly on your choices for the arguments. Choose sensibly!\n"
   ]
  },
  {
   "cell_type": "code",
   "execution_count": 293,
   "id": "a9634e41-19ef-449b-a1f4-ff73570c0c8b",
   "metadata": {
    "deletable": false,
    "nbgrader": {
     "cell_type": "code",
     "checksum": "3c46fd1dd77e9a0e559e4e8563181f79",
     "grade": false,
     "grade_id": "cell-d6ee94e153151520",
     "locked": false,
     "schema_version": 3,
     "solution": true,
     "task": false
    },
    "tags": []
   },
   "outputs": [],
   "source": [
    "def demo_ticket_system():\n",
    "    # YOUR CODE HERE\n",
    "    \n",
    "    #Firstly we create the queues as done previously :\n",
    "    \n",
    "    queues = []  #create an empty list for the queues\n",
    "    k = 50  #set k to 50 which represents the amount of queues\n",
    "    for i in range(k):\n",
    "        new_queue = random.sample(range(10), 5) #creates a list of 5 random integers from 0 to 10 excluded\n",
    "        queues.append(deque(new_queue))  #append the previously created list to the queues list in deque form\n",
    "\n",
    "\n",
    "    p=np.array([random.uniform(0.5, 1) for i in range(k)])  #creates an array of random floats between 0.5 and 1 for the probability of succesfully buying a ticket\n",
    "    s=np.array([random.uniform(0, 1) for i in range(k)])  #creates an array of random floats between 0 and 1 for the probabbility of the first element of a queue moving to the end of the first queue\n",
    "    \n",
    "    print(\"We first create the list of queues :\")\n",
    "    print(queues)\n",
    "    print()\n",
    "    \n",
    "    #We now have to set the amount of customers and tickets to be sold :\n",
    "    \n",
    "    m = 200\n",
    "    print(\"We set the amount of tickets to be sold to\", m)\n",
    "    \n",
    "    #We can get the number of customers based on the amount of queues created, therefore,\n",
    "    n = 0\n",
    "    for i in queues:\n",
    "        n += len(i)\n",
    "    \n",
    "    print(\"Based on the amount of queues created, we have\", n, \"customers\")\n",
    "    print()\n",
    "    print(\"Now that we have all our parameters set, we call the first function to update the queues until either all the tickets have sold out, or every customer is satisfied with a ticket\")\n",
    "    print()\n",
    "    \n",
    "    tickets = 0  #amount of tickets sold\n",
    "    t = 0  #time ticks in minutes\n",
    "    while m > 0 and n > 0:  #condition that will run the loop until we run out of customers or tickets\n",
    "        t += 1  #update the time tick\n",
    "        update = update_queueing(queues, p, s)  #call the previously created function to update the queuing system\n",
    "        if update[1] == True:  #checks if a ticket was sold\n",
    "            m -= 1  #a ticket was bought thus removing one ticket from the total amount of tickets\n",
    "            n -= 1  #removing one customer from the total amount of customers\n",
    "            tickets += 1  #one ticket was bought\n",
    "            \n",
    "    if m == 0:\n",
    "        return \"The function is finished as the tickets have sold out in\", t,\"minutes, however,\", n,\"customers didn't get a ticket\"\n",
    "    if n == 0:\n",
    "        return \"The function is finished as every customer got a ticket in\", t,\"minutes\""
   ]
  },
  {
   "cell_type": "code",
   "execution_count": 294,
   "id": "fe9493a2-9c63-4c4b-b98f-866142bf1de8",
   "metadata": {
    "tags": []
   },
   "outputs": [
    {
     "name": "stdout",
     "output_type": "stream",
     "text": [
      "We first create the list of queues :\n",
      "[deque([7, 8, 4, 1, 2]), deque([8, 6, 4, 9, 2]), deque([8, 5, 7, 9, 2]), deque([2, 0, 8, 5, 7]), deque([7, 6, 0, 4, 2]), deque([1, 3, 0, 5, 9]), deque([1, 4, 6, 8, 3]), deque([2, 0, 7, 8, 5]), deque([6, 3, 7, 8, 2]), deque([9, 1, 6, 5, 0]), deque([2, 4, 0, 8, 1]), deque([1, 6, 3, 2, 7]), deque([8, 2, 6, 7, 0]), deque([6, 2, 4, 9, 1]), deque([7, 8, 5, 3, 2]), deque([7, 9, 1, 8, 0]), deque([8, 7, 6, 5, 2]), deque([5, 3, 0, 7, 6]), deque([1, 2, 4, 5, 8]), deque([6, 0, 2, 4, 7]), deque([4, 6, 5, 1, 9]), deque([3, 8, 2, 4, 1]), deque([4, 9, 5, 3, 6]), deque([5, 9, 1, 3, 0]), deque([9, 2, 8, 6, 0]), deque([9, 2, 8, 7, 5]), deque([6, 2, 0, 3, 7]), deque([5, 1, 3, 7, 0]), deque([5, 2, 0, 4, 6]), deque([9, 3, 1, 7, 2]), deque([5, 9, 3, 1, 7]), deque([0, 4, 7, 9, 8]), deque([1, 3, 7, 0, 8]), deque([5, 7, 1, 6, 2]), deque([2, 5, 3, 1, 8]), deque([7, 1, 2, 4, 0]), deque([8, 9, 2, 0, 5]), deque([0, 9, 5, 4, 2]), deque([1, 3, 5, 4, 9]), deque([2, 1, 5, 0, 8]), deque([9, 2, 6, 4, 7]), deque([3, 5, 7, 4, 9]), deque([6, 8, 9, 2, 7]), deque([7, 5, 1, 9, 0]), deque([2, 0, 8, 7, 9]), deque([7, 5, 2, 1, 9]), deque([9, 2, 3, 1, 5]), deque([0, 2, 8, 6, 9]), deque([7, 2, 5, 4, 3]), deque([0, 4, 2, 9, 6])]\n",
      "\n",
      "We set the amount of tickets to be sold to 200\n",
      "Based on the amount of queues created, we have 250 customers\n",
      "\n",
      "Now that we have all our parameters set, we call the first function to update the queues until either all the tickets have sold out, or every customer is satisfied with a ticket\n",
      "\n",
      "('The function is finished as the tickets have sold out in', 1456, 'minutes, however,', 50, \"customers didn't get a ticket\")\n"
     ]
    }
   ],
   "source": [
    "# Test your code in this block\n",
    "print(demo_ticket_system())"
   ]
  },
  {
   "cell_type": "code",
   "execution_count": null,
   "id": "754e6462-6258-4c5d-be0f-9001676f9cb3",
   "metadata": {
    "deletable": false,
    "editable": false,
    "nbgrader": {
     "cell_type": "code",
     "checksum": "1ec18024e4f27be783136e0e45bd5208",
     "grade": true,
     "grade_id": "cell-dd1636a3c2d77121",
     "locked": true,
     "points": 2,
     "schema_version": 3,
     "solution": false,
     "task": false
    },
    "tags": []
   },
   "outputs": [],
   "source": [
    "# Leave this block empty\n"
   ]
  },
  {
   "cell_type": "markdown",
   "id": "c82f7b26-3021-422f-b123-80c09968f1b0",
   "metadata": {
    "deletable": false,
    "editable": false,
    "nbgrader": {
     "cell_type": "markdown",
     "checksum": "9c1b48906c56008557352c38fb75f80f",
     "grade": false,
     "grade_id": "cell-6d5f665fc7dd10e2",
     "locked": true,
     "schema_version": 3,
     "solution": false,
     "task": false
    },
    "tags": []
   },
   "source": [
    "## Part 4\n",
    "\n",
    "Describe how the entire program works in a concise, clear way. Your answer about be around 6-10 sentences long."
   ]
  },
  {
   "cell_type": "markdown",
   "id": "f711a6a1-51ee-46aa-99db-9cb4f486d4fa",
   "metadata": {
    "deletable": false,
    "nbgrader": {
     "cell_type": "markdown",
     "checksum": "0b24c21d3342a4831c0251644d7c42ae",
     "grade": true,
     "grade_id": "cell-e943f29e8458373e",
     "locked": false,
     "points": 2,
     "schema_version": 3,
     "solution": true,
     "task": false
    },
    "tags": []
   },
   "source": [
    "For the function in Part 1, we had to write a function that updated the queues of a queuing system. Each queue had to be a deque object of integers that represents customer ids, therefore I created deque objects containing random integers between 0 and 10. The function returns a new list that represents the queues after one time tick, or one minute, and True or False, whether a ticket has been sold or not. This function also uses 2 arrays of random floats between 0 and 1 which represents the probability of a ticket being sold or that the first customer of any queue is moved to the end of the first queue.\n",
    "For the function in Part 2, we had to write a function that simulates the entire ticket system, therefore running the first function until either every ticket has been sold or every customer has bought a ticket. This function returns the time it took in minutes for either one of the outcomes.\n",
    "Finally Part 3 summurises the 2 previous functions and returns the progression of the function as it is runned."
   ]
  }
 ],
 "metadata": {
  "kernelspec": {
   "display_name": "Python 3 (ipykernel)",
   "language": "python",
   "name": "python3"
  },
  "language_info": {
   "codemirror_mode": {
    "name": "ipython",
    "version": 3
   },
   "file_extension": ".py",
   "mimetype": "text/x-python",
   "name": "python",
   "nbconvert_exporter": "python",
   "pygments_lexer": "ipython3",
   "version": "3.9.12"
  }
 },
 "nbformat": 4,
 "nbformat_minor": 5
}
