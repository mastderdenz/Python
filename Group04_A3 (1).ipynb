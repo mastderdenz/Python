{
 "cells": [
  {
   "cell_type": "code",
   "execution_count": null,
   "id": "dad9e76b-42bd-44c8-9ff7-8bef4311e79b",
   "metadata": {
    "deletable": false,
    "editable": false,
    "nbgrader": {
     "cell_type": "code",
     "checksum": "ae625be821f1f075404a36eb4bf4db8b",
     "grade": true,
     "grade_id": "cell-b4fa47b10d388e8a",
     "locked": true,
     "points": 4,
     "schema_version": 3,
     "solution": false,
     "task": false
    },
    "tags": []
   },
   "outputs": [],
   "source": [
    "# Test your code in this block\n"
   ]
  },
  {
   "cell_type": "markdown",
   "id": "56ef0515",
   "metadata": {},
   "source": [
    "Before you turn this problem in, make sure everything runs as expected. First, **restart the kernel** (in the menubar, select Kernel$\\rightarrow$Restart) and then **run all cells** (in the menubar, select Cell$\\rightarrow$Run All).\n",
    "\n",
    "Make sure you fill in any place that says `YOUR CODE HERE` or \"YOUR ANSWER HERE\"."
   ]
  },
  {
   "cell_type": "markdown",
   "id": "acf20b10",
   "metadata": {},
   "source": [
    "---"
   ]
  },
  {
   "cell_type": "markdown",
   "id": "656eb679-cd1a-4b2d-849c-ca28cd6e6774",
   "metadata": {
    "deletable": false,
    "editable": false,
    "nbgrader": {
     "cell_type": "markdown",
     "checksum": "a0fdfc0088a076410bc088577a33b4d4",
     "grade": false,
     "grade_id": "cell-269fc2073de5a377",
     "locked": true,
     "schema_version": 3,
     "solution": false,
     "task": false
    },
    "tags": []
   },
   "source": [
    "# Section A: Question 3\n",
    "\n",
    "You are running a small restaurant and would like to create a simple visualisation of a receipt for a table given a list of meal prices. \n",
    "\n",
    "## Part 1\n",
    "\n",
    "The tax associated with each meal is 17.5\\%. Write a function `receipt_summary` that takes as input a list of meal prices (pre-tax) and returns the total cost (without tax), the total cost (with tax), and the average cost per meal (with tax) rounded to the nearest penny.\n",
    "\n",
    "**Hint**: See Lab 3 for a reminder of how to write a function that returns multiple values."
   ]
  },
  {
   "cell_type": "code",
   "execution_count": 2,
   "id": "fcd2e2b3-f35e-4df4-8398-60be04aed9f1",
   "metadata": {
    "deletable": false,
    "nbgrader": {
     "cell_type": "code",
     "checksum": "d90c116b9b2e7671f4224e0805cf4d39",
     "grade": false,
     "grade_id": "cell-57c80fa2dcc3b0d9",
     "locked": false,
     "schema_version": 3,
     "solution": true,
     "task": false
    },
    "tags": []
   },
   "outputs": [],
   "source": [
    "def receipt_summary(meal_prices):\n",
    "    # YOUR CODE HERE\n",
    "    tax, cost_without_tax = 0, 0\n",
    "    for i in meal_prices:\n",
    "        tax += 0.175*i\n",
    "        cost_without_tax += i\n",
    "    total_cost = tax+cost_without_tax\n",
    "    average_cost = round((total_cost/len(meal_prices)),2)\n",
    "    cost_without_tax, total_cost = round(cost_without_tax,2), round(total_cost,2)\n",
    "    return cost_without_tax, total_cost, average_cost"
   ]
  },
  {
   "cell_type": "code",
   "execution_count": 3,
   "id": "f99a6fd1-930a-4280-b283-768285a37db5",
   "metadata": {},
   "outputs": [
    {
     "data": {
      "text/plain": [
       "(139.04, 163.37, 23.34)"
      ]
     },
     "execution_count": 3,
     "metadata": {},
     "output_type": "execute_result"
    }
   ],
   "source": [
    "# Test your code in this block\n",
    "meal_prices = [10.90, 5.00, 6.76, 30.29, 18.54, 25.41, 42.14] \n",
    "receipt_summary(meal_prices)"
   ]
  },
  {
   "cell_type": "markdown",
   "id": "67f2edd1-97c3-466c-8142-80f4a809978a",
   "metadata": {
    "deletable": false,
    "editable": false,
    "nbgrader": {
     "cell_type": "markdown",
     "checksum": "4b9a2e59b17041a191035295f91f29f0",
     "grade": false,
     "grade_id": "cell-92378ea36fe8e6bf",
     "locked": true,
     "schema_version": 3,
     "solution": false,
     "task": false
    },
    "tags": []
   },
   "source": [
    "## Part 2\n",
    "\n",
    "Write a function `print_receipt` that generates an itemised print-out of the receipt, showing the pre-tax cost with the tax in brackets for each item, plus a summary of the total without tax, the total tax, the total cost with tax, and the average cost per meal (with tax) at the bottom. All numbers should be rounded to the nearest penny. For example, if the prices of three meals is `[10, 8.5, 23.2]`, the print-out should display:\n",
    "\n",
    "```\n",
    "Meal 1: £10 (£1.75) \n",
    "\n",
    "Meal 2: £8.5 (£1.49) \n",
    "\n",
    "Meal 3: £23.2 (£4.06) \n",
    "\n",
    "---\n",
    "Total (pre-tax): £41.7\n",
    "Tax: £7.3\n",
    "Total: £49.0\n",
    "Cost per meal: £16.33\n",
    "```\n",
    "\n",
    "Pay attention to the formatting of the output, and test your code on a few simple examples to check that it is working as expected."
   ]
  },
  {
   "cell_type": "code",
   "execution_count": 4,
   "id": "98b89d02-2070-4f43-8a86-3b5373f81504",
   "metadata": {
    "deletable": false,
    "nbgrader": {
     "cell_type": "code",
     "checksum": "98b8389eebfe9cd7335b1b6cc07c8f9d",
     "grade": true,
     "grade_id": "cell-0e041cf9a6ef2300",
     "locked": false,
     "points": 4,
     "schema_version": 3,
     "solution": true,
     "task": false
    },
    "tags": []
   },
   "outputs": [],
   "source": [
    "def print_receipt(meal_prices):\n",
    "    # YOUR CODE HERE\n",
    "    for i in range(len(meal_prices)):\n",
    "        print(\"Meal \" + str(i+1) + \": £\" + str(meal_prices[i]) + \" (£\" + str(round(meal_prices[i]*0.175,2)) + \")\" + \"\\n\")\n",
    "        \n",
    "    print(\"---\")\n",
    "    total_pretax, total, average = receipt_summary(meal_prices)\n",
    "    tax = round(total-total_pretax,2)\n",
    "    print(\"Total (pre-tax): £\" + str(total_pretax))\n",
    "    print(\"Tax: £\" + str(tax))\n",
    "    print(\"Total: £\" + str(total))\n",
    "    print(\"Cost per meal: £\" + str(average))"
   ]
  },
  {
   "cell_type": "code",
   "execution_count": 9,
   "id": "07563454-1b3e-42be-b2b2-b17f453ca7c3",
   "metadata": {
    "deletable": false,
    "nbgrader": {
     "cell_type": "code",
     "checksum": "06eadb212452e4c519069b7632d92b18",
     "grade": true,
     "grade_id": "cell-aeac733835564f41",
     "locked": false,
     "points": 0,
     "schema_version": 3,
     "solution": true,
     "task": false
    },
    "tags": []
   },
   "outputs": [
    {
     "name": "stdout",
     "output_type": "stream",
     "text": [
      "Meal 1: £10.9 (£1.91)\n",
      "\n",
      "Meal 2: £5.0 (£0.88)\n",
      "\n",
      "Meal 3: £6.76 (£1.18)\n",
      "\n",
      "Meal 4: £30.29 (£5.3)\n",
      "\n",
      "Meal 5: £18.54 (£3.24)\n",
      "\n",
      "Meal 6: £25.41 (£4.45)\n",
      "\n",
      "Meal 7: £42.14 (£7.37)\n",
      "\n",
      "---\n",
      "Total (pre-tax): £139.04\n",
      "Tax: £24.33\n",
      "Total: £163.37\n",
      "Cost per meal: £23.34\n"
     ]
    }
   ],
   "source": [
    "# YOUR CODE HERE\n",
    "meal_prices = [10.90, 5.00, 6.76, 30.29, 18.54, 25.41, 42.14] \n",
    "print_receipt(meal_prices)"
   ]
  },
  {
   "cell_type": "markdown",
   "id": "1f142295-9745-412a-8e18-32e246d63b71",
   "metadata": {
    "deletable": false,
    "editable": false,
    "nbgrader": {
     "cell_type": "markdown",
     "checksum": "c986521967aef4fd51e8430916796cd9",
     "grade": false,
     "grade_id": "cell-5bef1437b812cbb6",
     "locked": true,
     "schema_version": 3,
     "solution": false,
     "task": false
    },
    "tags": []
   },
   "source": [
    "## Part 3\n",
    "\n",
    "Write a short paragraph explaining how the code in Parts 1 and 2 works. Be brief."
   ]
  },
  {
   "cell_type": "markdown",
   "id": "4d870ef6-7a87-4887-9536-b6041c9cb940",
   "metadata": {
    "deletable": false,
    "nbgrader": {
     "cell_type": "markdown",
     "checksum": "59a7a9964fbf3d3810efaf88a9b7e89e",
     "grade": true,
     "grade_id": "cell-52416ebb51bf279a",
     "locked": false,
     "points": 2,
     "schema_version": 3,
     "solution": true,
     "task": false
    },
    "tags": []
   },
   "source": [
    "In the function `receipt_summary` we make use of a loop going through the items in meal prices, keeping a running total of `tax` and `cost_without_tax` that get added to for each item in the list `i`. The `total_cost` is then calculated as the sum of the two, and the `average_cost` is calculated using the number of meals. All of these values are rounded to the nearest penny (i.e. 2 decimal places), and the relevant values are returned by the function.\n",
    "\n",
    "In the function `print_receipt` the first thing done is to loop through `meal_prices` with index `i` to print out every meal with its price and the tax alongside it. The function `receipt_summary` is called and used to assign values to `total_pretax`, `total` and `average`. The summary values are printed as required."
   ]
  }
 ],
 "metadata": {
  "kernelspec": {
   "display_name": "Python 3 (ipykernel)",
   "language": "python",
   "name": "python3"
  },
  "language_info": {
   "codemirror_mode": {
    "name": "ipython",
    "version": 3
   },
   "file_extension": ".py",
   "mimetype": "text/x-python",
   "name": "python",
   "nbconvert_exporter": "python",
   "pygments_lexer": "ipython3",
   "version": "3.9.12"
  }
 },
 "nbformat": 4,
 "nbformat_minor": 5
}
