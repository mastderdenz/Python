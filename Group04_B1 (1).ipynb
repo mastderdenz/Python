{
 "cells": [
  {
   "cell_type": "code",
   "execution_count": null,
   "id": "6697b161-1912-4551-b4f0-05f68a085989",
   "metadata": {
    "deletable": false,
    "editable": false,
    "nbgrader": {
     "cell_type": "code",
     "checksum": "71b269f56b421f4d8122ee37b9702064",
     "grade": true,
     "grade_id": "cell-1d588906e8ca990c",
     "locked": true,
     "points": 8,
     "schema_version": 3,
     "solution": false,
     "task": false
    },
    "tags": []
   },
   "outputs": [],
   "source": [
    "# Test your code in this block\n"
   ]
  },
  {
   "cell_type": "markdown",
   "id": "84f06dc2",
   "metadata": {},
   "source": [
    "Before you turn this problem in, make sure everything runs as expected. First, **restart the kernel** (in the menubar, select Kernel$\\rightarrow$Restart) and then **run all cells** (in the menubar, select Cell$\\rightarrow$Run All).\n",
    "\n",
    "Make sure you fill in any place that says `YOUR CODE HERE` or \"YOUR ANSWER HERE\"."
   ]
  },
  {
   "cell_type": "markdown",
   "id": "dff2ac52",
   "metadata": {},
   "source": [
    "---"
   ]
  },
  {
   "cell_type": "markdown",
   "id": "656eb679-cd1a-4b2d-849c-ca28cd6e6774",
   "metadata": {
    "deletable": false,
    "editable": false,
    "nbgrader": {
     "cell_type": "markdown",
     "checksum": "bd5dc3dd15e2994a36afbfe06067901e",
     "grade": false,
     "grade_id": "cell-d266108b83ece7a0",
     "locked": true,
     "schema_version": 3,
     "solution": false,
     "task": false
    },
    "tags": []
   },
   "source": [
    "# Section B: Question 1\n",
    "\n",
    "Consider a game of cards where each card is given points as follows: the ace (A) is worth 11 points; a jack (J), queen (Q) or king (K), 10 points each; every other card (2-10) is worth the corresponding number of points (i.e. a 'five' is worth 5 points). The hand of a player has exactly 3 cards. \n",
    "\n",
    "The *value of a hand* is equal to the sum of the value of all of its cards if this sum is 21 or less, otherwise it is equal to zero.\n",
    "\n",
    "## Part 1\n",
    "\n",
    "Write a function called `hand_max` that takes as the argument a variable called `hands`. This variable is a list of lists, so that `hands[i][j]` is defined for $i = 0, 1, 2, \\dots$, and $j = 0, 1, 2$. You should not assume any particular number of rows for `hands`, but you can assume that it has three columns. `hands[i][j]` is a particular card for player i, which is a string that can be assumed to be one of \"A\", \"2\", ..., \"10\", \"J\", \"Q\", \"K\". \n",
    "\n",
    "The function `hand_max` must return the maximum value among all hands in hands.\n",
    "\n",
    "If player $i$ is the only player with the maximum value, the function should print the message \"Player i wins\".  \n",
    "If there is more than one player with the maximum value, the function should print the message \"The game is tied.\"."
   ]
  },
  {
   "cell_type": "code",
   "execution_count": 5,
   "id": "9727ecd2-2bdf-44f9-83ae-cfa40cc88d41",
   "metadata": {
    "deletable": false,
    "nbgrader": {
     "cell_type": "code",
     "checksum": "02ec7d3d815660e383f9be0d0e644470",
     "grade": false,
     "grade_id": "cell-115bb2166e934863",
     "locked": false,
     "schema_version": 3,
     "solution": true,
     "task": false
    },
    "tags": []
   },
   "outputs": [],
   "source": [
    "def hand_max(hands):\n",
    "    # YOUR CODE HERE\n",
    "    largest, winner, tie = 0, 0, False\n",
    "    for i in range(len(hands)):\n",
    "        handvalue = 0\n",
    "        for j in range(0,3):\n",
    "            if hands[i][j] == \"A\": \n",
    "                handvalue += 11\n",
    "            elif hands[i][j] == \"J\" or hands[i][j] == \"Q\" or hands[i][j] == \"K\":\n",
    "                handvalue += 10\n",
    "            else:\n",
    "                handvalue += int(hands[i][j])\n",
    "        if handvalue > 21:\n",
    "            handvalue = 0\n",
    "        if handvalue > largest:\n",
    "            largest = handvalue\n",
    "            tie = False\n",
    "            winner = i\n",
    "        elif handvalue == largest:\n",
    "            tie = True\n",
    "    if tie:\n",
    "        print(\"The game is tied.\")\n",
    "    else:\n",
    "        print(\"Player\",winner, \"wins\")\n",
    "    return largest"
   ]
  },
  {
   "cell_type": "markdown",
   "id": "7ba0437b-cbd8-4664-be58-7fe7e26416cf",
   "metadata": {
    "deletable": false,
    "editable": false,
    "nbgrader": {
     "cell_type": "markdown",
     "checksum": "8a81486099892ddaf8d2a06405aa9d2e",
     "grade": false,
     "grade_id": "cell-3cbd28e7ecb4250f",
     "locked": true,
     "schema_version": 3,
     "solution": false,
     "task": false
    },
    "tags": []
   },
   "source": [
    "Provide an example of a `hands` variable, call the function `hand_max` with it."
   ]
  },
  {
   "cell_type": "code",
   "execution_count": 6,
   "id": "9d048875-33de-4e16-b75c-5b5640604860",
   "metadata": {},
   "outputs": [
    {
     "name": "stdout",
     "output_type": "stream",
     "text": [
      "Player 4 wins\n"
     ]
    },
    {
     "data": {
      "text/plain": [
       "19"
      ]
     },
     "execution_count": 6,
     "metadata": {},
     "output_type": "execute_result"
    }
   ],
   "source": [
    "# Test your code in this block\n",
    "hands=[[\"A\", \"2\", \"5\"],[\"7\",\"8\",\"K\"],[\"A\",\"3\",\"4\"],[\"Q\", \"2\", \"5\"],[\"3\",\"9\",\"7\"],[\"2\",\"3\",\"4\"]]\n",
    "hand_max(hands)"
   ]
  },
  {
   "cell_type": "markdown",
   "id": "41f4cf77-4d8d-476b-937d-21558d1fc9b4",
   "metadata": {
    "deletable": false,
    "editable": false,
    "nbgrader": {
     "cell_type": "markdown",
     "checksum": "6a815b043f0f924d33051aee1fcde709",
     "grade": false,
     "grade_id": "cell-d4db40903d3364b8",
     "locked": true,
     "schema_version": 3,
     "solution": false,
     "task": false
    },
    "tags": []
   },
   "source": [
    "## Part 2\n",
    "\n",
    "Write a short paragraph explaining how the code in Part 1 works. Be brief."
   ]
  },
  {
   "cell_type": "markdown",
   "id": "f711a6a1-51ee-46aa-99db-9cb4f486d4fa",
   "metadata": {
    "deletable": false,
    "nbgrader": {
     "cell_type": "markdown",
     "checksum": "0b24c21d3342a4831c0251644d7c42ae",
     "grade": true,
     "grade_id": "cell-e943f29e8458373e",
     "locked": false,
     "points": 2,
     "schema_version": 3,
     "solution": true,
     "task": false
    },
    "tags": []
   },
   "source": [
    "In the function `hand_max` we make use of a nested loop, where index `i` loops over the hands and index `j` loops over the cards within those hands. As we loop through the hands we store the largest score calculated so far in `largest` and the index of the player with this hand in `winner`. `handvalue` is used as a running total for the current hand being checked, and is reset to 0 every time a new hand is to be checked. For every card `j` in a hand, its relevant value is added to `handvalue` - we use an if structure to check how many points to add.\n",
    "\n",
    "If the total for the current hand is over 21 `handvalue` is reset to 0, but otherwise it is compared to the current `largest` score. If it is bigger, it becomes the new `largest` score and `winner` is updated accordingly. A variable `tie` is used to store whether or not there is currently a tie, and this is set to `False` as in this case there is currently an outright winner.\n",
    "\n",
    "If the score is equal to the current `largest` score, `tie` is set to `True`. If after all hand values have been calculated `tie = True`, there is a tie and `The game is tied.` is printed. Otherwise the winner of the game is printed. The `largest` score is returned by the function."
   ]
  }
 ],
 "metadata": {
  "kernelspec": {
   "display_name": "Python 3 (ipykernel)",
   "language": "python",
   "name": "python3"
  },
  "language_info": {
   "codemirror_mode": {
    "name": "ipython",
    "version": 3
   },
   "file_extension": ".py",
   "mimetype": "text/x-python",
   "name": "python",
   "nbconvert_exporter": "python",
   "pygments_lexer": "ipython3",
   "version": "3.9.12"
  }
 },
 "nbformat": 4,
 "nbformat_minor": 5
}
